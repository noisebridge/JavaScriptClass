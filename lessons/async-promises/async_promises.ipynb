{
 "cells": [
  {
   "cell_type": "markdown",
   "metadata": {},
   "source": [
    "This lesson is about JavaScript asynchronous (async) code and [promises](https://developer.mozilla.org/en-US/docs/Web/JavaScript/Reference/Global_Objects/Promise).\n",
    "\n",
    "Asynchronous code is code that executes outside of the main thread, or \"in the background\". This is in direct contrast to most code, synchronous code, that executes one line at a time.\n",
    "\n",
    "A good example of asynchronous code is event handlers.\n",
    "\n",
    "*(Note: The code below doesn't work in the notebook)*"
   ]
  },
  {
   "cell_type": "code",
   "execution_count": 11,
   "metadata": {},
   "outputs": [
    {
     "name": "stdout",
     "output_type": "stream",
     "text": [
      "making button\n"
     ]
    },
    {
     "data": {
      "text/html": [
       "<button id=\"button\" onclick=\"handleClick()\">Click me</button>"
      ]
     },
     "execution_count": 11,
     "metadata": {},
     "output_type": "execute_result"
    }
   ],
   "source": [
    "const { html } = Deno.jupyter;\n",
    "\n",
    "function handleClick() {\n",
    "  console.log(\"Button clicked!\");\n",
    "  document.getElementById(\"button\").textContent = \"Clicked!\";\n",
    "}\n",
    "\n",
    "html`<button id=\"button\" onclick=\"handleClick()\">Click me</button>`;"
   ]
  }
 ],
 "metadata": {
  "kernelspec": {
   "display_name": "Deno",
   "language": "typescript",
   "name": "deno"
  },
  "language_info": {
   "codemirror_mode": "typescript",
   "file_extension": ".ts",
   "mimetype": "text/x.typescript",
   "name": "typescript",
   "nbconvert_exporter": "script",
   "pygments_lexer": "typescript",
   "version": "5.5.2"
  }
 },
 "nbformat": 4,
 "nbformat_minor": 2
}
